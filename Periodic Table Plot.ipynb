{
 "cells": [
  {
   "cell_type": "code",
   "execution_count": 1,
   "metadata": {},
   "outputs": [],
   "source": [
    "from bokeh.plotting import figure\n",
    "from bokeh.io import output_file, show\n",
    "from bokeh.sampledata.periodic_table import elements\n",
    "from bokeh.models import Range1d, PanTool, ResetTool, HoverTool, ColumnDataSource\n",
    "\n",
    "colormap = {'gas':'yellow', 'liquid':'orange', 'solid':'red'}\n",
    "elements.dropna(inplace=True)\n",
    "elements['color'] = [colormap[x] for x in elements['standard state']]\n",
    "elements['size'] = [size/10 for size in elements['van der Waals radius']]\n",
    "\n",
    "gas = ColumnDataSource(elements[elements[\"standard state\"] == \"gas\"])\n",
    "liquid = ColumnDataSource(elements[elements[\"standard state\"] == \"liquid\"])\n",
    "solid = ColumnDataSource(elements[elements[\"standard state\"] == \"solid\"])\n",
    "cds_dict = {'gas':gas, 'liquid':liquid, 'solid':solid }\n",
    "\n",
    "output_file(\"elements.html\")\n",
    "f=figure()\n",
    "\n",
    "for state in elements[\"standard state\"].unique():\n",
    "       f.circle(\n",
    "            x='atomic radius',\n",
    "            y='boiling point',\n",
    "            size='size',\n",
    "            fill_alpha=0.2,\n",
    "            color='color',\n",
    "            legend=state.capitalize(),\n",
    "            source=cds_dict[state]\n",
    "       )\n",
    "        \n",
    "#Style the legend\n",
    "f.legend.location = \"top_right\"\n",
    "f.legend.background_fill_alpha = 0\n",
    "f.legend.border_line_color = None\n",
    "f.legend.margin = 10\n",
    "f.legend.padding = 18\n",
    "f.legend.spacing = 1\n",
    "f.legend.label_text_color = 'black'\n",
    "f.legend.label_text_font = 'antiqua'\n",
    "f.xaxis.axis_label=\"Atomic Radius\"\n",
    "\n",
    "show(f)\n"
   ]
  },
  {
   "cell_type": "code",
   "execution_count": null,
   "metadata": {},
   "outputs": [],
   "source": []
  }
 ],
 "metadata": {
  "kernelspec": {
   "display_name": "Python 3",
   "language": "python",
   "name": "python3"
  },
  "language_info": {
   "codemirror_mode": {
    "name": "ipython",
    "version": 3
   },
   "file_extension": ".py",
   "mimetype": "text/x-python",
   "name": "python",
   "nbconvert_exporter": "python",
   "pygments_lexer": "ipython3",
   "version": "3.7.0"
  }
 },
 "nbformat": 4,
 "nbformat_minor": 2
}
