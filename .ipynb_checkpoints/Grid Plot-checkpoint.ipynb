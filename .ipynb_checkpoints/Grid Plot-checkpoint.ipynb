{
 "cells": [
  {
   "cell_type": "code",
   "execution_count": 2,
   "metadata": {
    "scrolled": true
   },
   "outputs": [
    {
     "ename": "NameError",
     "evalue": "name 'f' is not defined",
     "output_type": "error",
     "traceback": [
      "\u001b[1;31m---------------------------------------------------------------------------\u001b[0m",
      "\u001b[1;31mNameError\u001b[0m                                 Traceback (most recent call last)",
      "\u001b[1;32m<ipython-input-2-76ce624c16f2>\u001b[0m in \u001b[0;36m<module>\u001b[1;34m()\u001b[0m\n\u001b[0;32m     23\u001b[0m \u001b[1;33m\u001b[0m\u001b[0m\n\u001b[0;32m     24\u001b[0m \u001b[1;31m#show results\u001b[0m\u001b[1;33m\u001b[0m\u001b[1;33m\u001b[0m\u001b[0m\n\u001b[1;32m---> 25\u001b[1;33m \u001b[0mshow\u001b[0m\u001b[1;33m(\u001b[0m\u001b[0mf\u001b[0m\u001b[1;33m)\u001b[0m\u001b[1;33m\u001b[0m\u001b[0m\n\u001b[0m",
      "\u001b[1;31mNameError\u001b[0m: name 'f' is not defined"
     ]
    }
   ],
   "source": [
    "from bokeh.io import output_file, show\n",
    "from bokeh.plotting import figure\n",
    "from bokeh.layouts import gridplot\n",
    "\n",
    "#Prepare the output file\n",
    "output_file(\"layout.html\")\n",
    "\n",
    "x1,y1=list(range(0,10)), list(range(10,20))\n",
    "x2,y2=list(range(20,30)), list(range(30, 40))\n",
    "x3,y3=list(range(40,50)), list(range(50, 60))\n",
    "\n",
    "#create a new plot\n",
    "f1 = figure(width=250, plot_height=250, title=\"Circles\")\n",
    "f1.circle(x1, y1, size=10, color=\"navy\", alpha=0.5)\n",
    "\n",
    "#create another one\n",
    "f2 = figure(width=250, height=250, title=\"Triangles\")\n",
    "f2.triangle(x2, y2, size=10, color=\"firebrick\", alpha=0.5)\n",
    "\n",
    "#create and another\n",
    "f3 = figure(width=250, height=250, title=\"Squares\")\n",
    "f3.square(x3, y3, size=10, color=\"olive\", alpha=0.5)\n",
    "\n",
    "#put all the plots on a grid layout\n",
    "f = gridplot([[f1, f2], [None, f3]])\n",
    "\n",
    "#show results\n",
    "show(f)"
   ]
  }
 ],
 "metadata": {
  "kernelspec": {
   "display_name": "Python 3",
   "language": "python",
   "name": "python3"
  },
  "language_info": {
   "codemirror_mode": {
    "name": "ipython",
    "version": 3
   },
   "file_extension": ".py",
   "mimetype": "text/x-python",
   "name": "python",
   "nbconvert_exporter": "python",
   "pygments_lexer": "ipython3",
   "version": "3.7.0"
  }
 },
 "nbformat": 4,
 "nbformat_minor": 2
}
