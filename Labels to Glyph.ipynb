{
 "cells": [
  {
   "cell_type": "code",
   "execution_count": 3,
   "metadata": {},
   "outputs": [],
   "source": [
    "#Categorical axes\n",
    "\n",
    "#importing libraries\n",
    "from bokeh.plotting import figure\n",
    "from bokeh.io import output_file, show\n",
    "from bokeh.models.annotations import Label, LabelSet\n",
    "from bokeh.models import ColumnDataSource\n",
    "\n",
    "#prepare the output\n",
    "output_file(\"students.html\")\n",
    "\n",
    "#crate columndatasource\n",
    "source=ColumnDataSource(dict(average_grades=[\"B+\",\"A\",\"D-\"],\n",
    "                             exam_grades=[\"A+\",\"C\",\"D\"],\n",
    "                             student_names=[\"Stephan\",\"Helder\",\"Riazudidn\"]))\n",
    "\n",
    "#create the figure\n",
    "f = figure(x_range=[\"F\",\"D-\",\"D\",\"D+\",\"C-\",\"C\",\"C+\",\"B-\",\"B\",\"B+\",\"A-\",\"A\",\"A+\"],\n",
    "           y_range=[\"F\",\"D-\",\"D\",\"D+\",\"C-\",\"C\",\"C+\",\"B-\",\"B\",\"B+\",\"A-\",\"A\",\"A+\"])\n",
    "\n",
    "#add description label\n",
    "description=Label(x=7,y=1,text=\"This graph shows average grades and exam grades for 3rd grade students\",render_mode=\"css\")\n",
    "f.add_layout(description)\n",
    "\n",
    "#add labels for glyphs\n",
    "labels=LabelSet(x=\"average_grades\",y=\"exam_grades\",text=\"student_names\",x_offset=5, y_offset=5, source=source)\n",
    "f.add_layout(labels)\n",
    "\n",
    "#create glyphs\n",
    "f.circle(x=\"average_grades\", y=\"exam_grades\", source=source, size=8)\n",
    "\n",
    "show(f)\n"
   ]
  },
  {
   "cell_type": "code",
   "execution_count": 4,
   "metadata": {},
   "outputs": [
    {
     "name": "stdout",
     "output_type": "stream",
     "text": [
      "average_grades\n",
      "exam_grades\n",
      "student_names\n"
     ]
    }
   ],
   "source": [
    "#Categorical axes\n",
    "\n",
    "#importing libraries\n",
    "from bokeh.plotting import figure\n",
    "from bokeh.io import output_file, show\n",
    "from bokeh.models.annotations import Label, LabelSet\n",
    "from bokeh.models import ColumnDataSource\n",
    "from bokeh.models import Range1d\n",
    "\n",
    "#prepare the output\n",
    "output_file(\"students.html\")\n",
    "\n",
    "#crate columndatasource\n",
    "source_original=ColumnDataSource(dict(average_grades=[7,8,10],\n",
    "                             exam_grades=[6,9,8],\n",
    "                             student_names=[\"Stephan\",\"Helder\",\"Riazudidn\"]))\n",
    "\n",
    "source=ColumnDataSource(dict(average_grades=[7,8,10],\n",
    "                             exam_grades=[6,9,8],\n",
    "                             student_names=[\"Stephan\",\"Helder\",\"Riazudidn\"]))\n",
    "\n",
    "#create the figure\n",
    "f = figure(x_range=Range1d(start=0,end=12),\n",
    "           y_range=Range1d(start=0,end=12))\n",
    "\n",
    "for key in source_original.data:\n",
    "    print(key)\n",
    "# #add description label\n",
    "# description=Label(x=7,y=1,text=\"This graph shows average grades and exam grades for 3rd grade students\",render_mode=\"css\")\n",
    "# f.add_layout(description)\n",
    "\n",
    "# #add labels for glyphs\n",
    "# labels=LabelSet(x=\"average_grades\",y=\"exam_grades\",text=\"student_names\",x_offset=5, y_offset=5, source=source)\n",
    "# f.add_layout(labels)\n",
    "\n",
    "# #create glyphs\n",
    "# f.circle(x=\"average_grades\", y=\"exam_grades\", source=source, size=8)\n",
    "\n",
    "# show(f)\n"
   ]
  }
 ],
 "metadata": {
  "kernelspec": {
   "display_name": "Python 3",
   "language": "python",
   "name": "python3"
  },
  "language_info": {
   "codemirror_mode": {
    "name": "ipython",
    "version": 3
   },
   "file_extension": ".py",
   "mimetype": "text/x-python",
   "name": "python",
   "nbconvert_exporter": "python",
   "pygments_lexer": "ipython3",
   "version": "3.7.0"
  }
 },
 "nbformat": 4,
 "nbformat_minor": 2
}
