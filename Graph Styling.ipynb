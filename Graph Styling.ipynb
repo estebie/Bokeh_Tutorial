{
 "cells": [
  {
   "cell_type": "code",
   "execution_count": 1,
   "metadata": {},
   "outputs": [],
   "source": [
    "from bokeh.plotting import figure\n",
    "from bokeh.io import output_file, show\n",
    "from bokeh.sampledata.iris import flowers\n",
    "\n",
    "output_file(\"iris.html\")\n",
    "f=figure()\n",
    "\n",
    "f.plot_width=1100\n",
    "f.plot_height=650\n",
    "f.background_fill_color=\"olive\"\n",
    "f.background_fill_alpha=0.3\n",
    "\n",
    "f.circle(x=flowers[\"petal_length\"], y=flowers[\"petal_width\"])\n",
    "show(f)"
   ]
  },
  {
   "cell_type": "code",
   "execution_count": null,
   "metadata": {},
   "outputs": [],
   "source": []
  }
 ],
 "metadata": {
  "kernelspec": {
   "display_name": "Python 3",
   "language": "python",
   "name": "python3"
  },
  "language_info": {
   "codemirror_mode": {
    "name": "ipython",
    "version": 3
   },
   "file_extension": ".py",
   "mimetype": "text/x-python",
   "name": "python",
   "nbconvert_exporter": "python",
   "pygments_lexer": "ipython3",
   "version": "3.7.0"
  }
 },
 "nbformat": 4,
 "nbformat_minor": 2
}
