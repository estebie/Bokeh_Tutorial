{
 "cells": [
  {
   "cell_type": "code",
   "execution_count": 1,
   "metadata": {},
   "outputs": [],
   "source": [
    "from bokeh.plotting import figure\n",
    "from bokeh.io import output_file, show\n",
    "from bokeh.sampledata.iris import flowers\n",
    "from bokeh.models import Range1d, PanTool, ResetTool, HoverTool, WheelZoomTool\n",
    "from screeninfo import get_monitors\n",
    "\n",
    "output_file(\"iris.html\")\n",
    "f = figure(tools=[PanTool(), ResetTool(), WheelZoomTool()])\n",
    "\n",
    "f.add_tools(HoverTool(tooltips=[(\"Species\",\"@species\"), (\"Sepal Width\", \"@sepal_width\")]))\n",
    "f.toolbar_location=\"above\"\n",
    "f.toolbar.logo=None\n",
    "\n",
    "#Style the plot area\n",
    "f.plot_width=get_monitors()[0].width #get_monitors is part of the screeninfo module imported above\n",
    "f.plot_height=get_monitors()[0].height-50 #get_monitors is part of the screeninfo module imported above\n",
    "f.background_fill_color = \"grey\"\n",
    "f.background_fill_alpha = 0.1\n",
    "f.sizing_mode = \"stretch_both\" #graph will resize itself when user resizes the browser\n",
    "\n",
    "#Style the title\n",
    "f.title.text = \"Iris Morphology\"\n",
    "f.title.text_color = \"olive\"\n",
    "f.title.text_alpha = 0.6\n",
    "f.title.text_font = \"antiqua\"\n",
    "f.title.text_font_size = \"18px\"\n",
    "f.title.align = \"center\"\n",
    "\n",
    "#Style the axes\n",
    "f.yaxis.major_label_orientation = \"vertical\"\n",
    "f.xaxis.minor_tick_in = -6\n",
    "f.yaxis.minor_tick_in = -6\n",
    "f.axis.minor_tick_line_color = \"grey\"\n",
    "f.axis.axis_line_color = \"olive\"\n",
    "f.xaxis.axis_label = \"Petal Length\"\n",
    "f.yaxis.axis_label = \"Petal Width\"\n",
    "f.axis.axis_label_text_color = \"olive\"\n",
    "f.axis.axis_label_text_font = \"antiqua\"\n",
    "f.axis.axis_label_text_font_style = \"bold\"\n",
    "f.axis.major_label_text_color = \"olive\"\n",
    "\n",
    " \n",
    "#Axes geometry\n",
    "f.x_range = Range1d(start=flowers[\"petal_length\"][flowers[\"species\"]=='versicolor'].min(),\n",
    "end=flowers[\"petal_length\"][flowers[\"species\"]=='versicolor'].max())\n",
    "f.y_range = Range1d(start=flowers[\"petal_width\"][flowers[\"species\"]=='versicolor'].min(),\n",
    "end=flowers[\"petal_width\"][flowers[\"species\"]=='versicolor'].max())\n",
    "f.xaxis[0].ticker.desired_num_ticks = 6\n",
    "f.yaxis[0].ticker.desired_num_ticks = 6\n",
    "f.yaxis[0].ticker.num_minor_ticks = 5\n",
    "f.xaxis[0].ticker.num_minor_ticks = 5\n",
    "\n",
    "#Style the grid\n",
    "f.grid.grid_line_color = (128,128,0,0.5) #equivalent to olive color with a 0.5 alpha value\n",
    "f.grid.grid_line_dash = [5,3] #5 pixels of line and 3 pixels of space\n",
    "f.grid.minor_grid_line_color = (128,128,0,0.1) #equivalent to olive color with a 0.1 alpha value\n",
    "f.grid.minor_grid_line_dash = [3,3]\n",
    "\n",
    "\n",
    "colormap = {'setosa':'red', 'versicolor':'blue', 'virginica':'orange'}\n",
    "flowers['color'] = [colormap[x] for x in flowers['species']]\n",
    "\n",
    "for specie in flowers['species'].unique():\n",
    "    f.circle(x=flowers[\"petal_length\"][flowers['species']==specie], \n",
    "             y=flowers[\"petal_width\"][flowers['species']==specie],\n",
    "             size=flowers['sepal_width'][flowers['species']==specie]*4,\n",
    "             color=flowers['color'][flowers['species']==specie],\n",
    "             fill_alpha=0.2,\n",
    "             line_dash=[5,3],\n",
    "             legend=specie.capitalize()\n",
    "            )\n",
    "    \n",
    "#Style the legend\n",
    "f.legend.location = \"top_left\"\n",
    "f.legend.background_fill_alpha = 0\n",
    "f.legend.border_line_color = None\n",
    "f.legend.margin = 10\n",
    "f.legend.padding = 18\n",
    "f.legend.spacing = 1\n",
    "f.legend.label_text_color = 'olive'\n",
    "f.legend.label_text_font = 'antiqua'\n",
    "\n",
    "show(f)"
   ]
  },
  {
   "cell_type": "code",
   "execution_count": 6,
   "metadata": {},
   "outputs": [
    {
     "name": "stdout",
     "output_type": "stream",
     "text": [
      "['setosa' 'versicolor' 'virginica']\n",
      "setosa\n",
      "versicolor\n",
      "virginica\n"
     ]
    }
   ],
   "source": [
    "# print(flowers['species'].unique())\n",
    "# for specie in flowers['species'].unique():\n"
   ]
  },
  {
   "cell_type": "code",
   "execution_count": null,
   "metadata": {},
   "outputs": [],
   "source": []
  }
 ],
 "metadata": {
  "kernelspec": {
   "display_name": "Python 3",
   "language": "python",
   "name": "python3"
  },
  "language_info": {
   "codemirror_mode": {
    "name": "ipython",
    "version": 3
   },
   "file_extension": ".py",
   "mimetype": "text/x-python",
   "name": "python",
   "nbconvert_exporter": "python",
   "pygments_lexer": "ipython3",
   "version": "3.7.0"
  }
 },
 "nbformat": 4,
 "nbformat_minor": 2
}
