{
 "cells": [
  {
   "cell_type": "code",
   "execution_count": 8,
   "metadata": {},
   "outputs": [],
   "source": [
    "from bokeh.plotting import figure\n",
    "from bokeh.io import output_file, show\n",
    "from bokeh.sampledata.iris import flowers\n",
    "from bokeh.models import Range1d, PanTool, ResetTool, HoverTool, ColumnDataSource\n",
    "\n",
    "colormap={'setosa':'red', 'versicolor':'green', 'virginica':'blue'}\n",
    "flowers['color']=[colormap[x] for x in flowers['species']]\n",
    "flowers['size']=[(size * 4) for size in flowers['sepal_width']]\n",
    "\n",
    "setosa=ColumnDataSource(flowers[flowers[\"species\"]==\"setosa\"])\n",
    "versicolor=ColumnDataSource(flowers[flowers[\"species\"]==\"versicolor\"])\n",
    "virginica=ColumnDataSource(flowers[flowers[\"species\"]==\"virginica\"])\n",
    "\n",
    "cds_dict = {'setosa':setosa, 'versicolor':versicolor, 'virginica':virginica}\n",
    "\n",
    "#Define the output file path\n",
    "output_file(\"iris.html\")\n",
    "\n",
    "#Create the figure object\n",
    "f=figure()\n",
    "\n",
    "#print(cds_dict['setosa'])\n",
    "#adding glyphs\n",
    "for specie in flowers['species'].unique():\n",
    "#     print(cds_dict[specie])\n",
    "    f.circle(\n",
    "            x=\"petal_length\",\n",
    "            y=\"petal_width\",\n",
    "            size=\"size\",\n",
    "            fill_alpha=0.2,\n",
    "            color=\"color\",\n",
    "            line_dash=[5,3],\n",
    "            legend=specie.capitalize(),\n",
    "            source=cds_dict[specie]\n",
    "            )\n",
    "\n",
    "\n",
    "#Style the legend\n",
    "f.legend.location = \"top_left\"\n",
    "f.legend.background_fill_alpha = 0\n",
    "f.legend.border_line_color = None\n",
    "f.legend.margin = 10\n",
    "f.legend.padding = 18\n",
    "f.legend.spacing = 1\n",
    "f.legend.label_text_color = 'olive'\n",
    "f.legend.label_text_font = 'antiqua'\n",
    "\n",
    "show(f)"
   ]
  },
  {
   "cell_type": "code",
   "execution_count": 9,
   "metadata": {},
   "outputs": [
    {
     "data": {
      "text/plain": [
       "{'sepal_length': array([5.1, 4.9, 4.7, 4.6, 5. , 5.4, 4.6, 5. , 4.4, 4.9, 5.4, 4.8, 4.8,\n",
       "        4.3, 5.8, 5.7, 5.4, 5.1, 5.7, 5.1, 5.4, 5.1, 4.6, 5.1, 4.8, 5. ,\n",
       "        5. , 5.2, 5.2, 4.7, 4.8, 5.4, 5.2, 5.5, 4.9, 5. , 5.5, 4.9, 4.4,\n",
       "        5.1, 5. , 4.5, 4.4, 5. , 5.1, 4.8, 5.1, 4.6, 5.3, 5. ]),\n",
       " 'sepal_width': array([3.5, 3. , 3.2, 3.1, 3.6, 3.9, 3.4, 3.4, 2.9, 3.1, 3.7, 3.4, 3. ,\n",
       "        3. , 4. , 4.4, 3.9, 3.5, 3.8, 3.8, 3.4, 3.7, 3.6, 3.3, 3.4, 3. ,\n",
       "        3.4, 3.5, 3.4, 3.2, 3.1, 3.4, 4.1, 4.2, 3.1, 3.2, 3.5, 3.6, 3. ,\n",
       "        3.4, 3.5, 2.3, 3.2, 3.5, 3.8, 3. , 3.8, 3.2, 3.7, 3.3]),\n",
       " 'petal_length': array([1.4, 1.4, 1.3, 1.5, 1.4, 1.7, 1.4, 1.5, 1.4, 1.5, 1.5, 1.6, 1.4,\n",
       "        1.1, 1.2, 1.5, 1.3, 1.4, 1.7, 1.5, 1.7, 1.5, 1. , 1.7, 1.9, 1.6,\n",
       "        1.6, 1.5, 1.4, 1.6, 1.6, 1.5, 1.5, 1.4, 1.5, 1.2, 1.3, 1.4, 1.3,\n",
       "        1.5, 1.3, 1.3, 1.3, 1.6, 1.9, 1.4, 1.6, 1.4, 1.5, 1.4]),\n",
       " 'petal_width': array([0.2, 0.2, 0.2, 0.2, 0.2, 0.4, 0.3, 0.2, 0.2, 0.1, 0.2, 0.2, 0.1,\n",
       "        0.1, 0.2, 0.4, 0.4, 0.3, 0.3, 0.3, 0.2, 0.4, 0.2, 0.5, 0.2, 0.2,\n",
       "        0.4, 0.2, 0.2, 0.2, 0.2, 0.4, 0.1, 0.2, 0.2, 0.2, 0.2, 0.1, 0.2,\n",
       "        0.2, 0.3, 0.3, 0.2, 0.6, 0.4, 0.3, 0.2, 0.2, 0.2, 0.2]),\n",
       " 'species': array(['setosa', 'setosa', 'setosa', 'setosa', 'setosa', 'setosa',\n",
       "        'setosa', 'setosa', 'setosa', 'setosa', 'setosa', 'setosa',\n",
       "        'setosa', 'setosa', 'setosa', 'setosa', 'setosa', 'setosa',\n",
       "        'setosa', 'setosa', 'setosa', 'setosa', 'setosa', 'setosa',\n",
       "        'setosa', 'setosa', 'setosa', 'setosa', 'setosa', 'setosa',\n",
       "        'setosa', 'setosa', 'setosa', 'setosa', 'setosa', 'setosa',\n",
       "        'setosa', 'setosa', 'setosa', 'setosa', 'setosa', 'setosa',\n",
       "        'setosa', 'setosa', 'setosa', 'setosa', 'setosa', 'setosa',\n",
       "        'setosa', 'setosa'], dtype=object),\n",
       " 'color': array(['red', 'red', 'red', 'red', 'red', 'red', 'red', 'red', 'red',\n",
       "        'red', 'red', 'red', 'red', 'red', 'red', 'red', 'red', 'red',\n",
       "        'red', 'red', 'red', 'red', 'red', 'red', 'red', 'red', 'red',\n",
       "        'red', 'red', 'red', 'red', 'red', 'red', 'red', 'red', 'red',\n",
       "        'red', 'red', 'red', 'red', 'red', 'red', 'red', 'red', 'red',\n",
       "        'red', 'red', 'red', 'red', 'red'], dtype=object),\n",
       " 'size': array([14. , 12. , 12.8, 12.4, 14.4, 15.6, 13.6, 13.6, 11.6, 12.4, 14.8,\n",
       "        13.6, 12. , 12. , 16. , 17.6, 15.6, 14. , 15.2, 15.2, 13.6, 14.8,\n",
       "        14.4, 13.2, 13.6, 12. , 13.6, 14. , 13.6, 12.8, 12.4, 13.6, 16.4,\n",
       "        16.8, 12.4, 12.8, 14. , 14.4, 12. , 13.6, 14. ,  9.2, 12.8, 14. ,\n",
       "        15.2, 12. , 15.2, 12.8, 14.8, 13.2]),\n",
       " 'index': array([ 0,  1,  2,  3,  4,  5,  6,  7,  8,  9, 10, 11, 12, 13, 14, 15, 16,\n",
       "        17, 18, 19, 20, 21, 22, 23, 24, 25, 26, 27, 28, 29, 30, 31, 32, 33,\n",
       "        34, 35, 36, 37, 38, 39, 40, 41, 42, 43, 44, 45, 46, 47, 48, 49],\n",
       "       dtype=int64)}"
      ]
     },
     "execution_count": 9,
     "metadata": {},
     "output_type": "execute_result"
    }
   ],
   "source": [
    "setosa.data"
   ]
  },
  {
   "cell_type": "code",
   "execution_count": null,
   "metadata": {},
   "outputs": [],
   "source": []
  }
 ],
 "metadata": {
  "kernelspec": {
   "display_name": "Python 3",
   "language": "python",
   "name": "python3"
  },
  "language_info": {
   "codemirror_mode": {
    "name": "ipython",
    "version": 3
   },
   "file_extension": ".py",
   "mimetype": "text/x-python",
   "name": "python",
   "nbconvert_exporter": "python",
   "pygments_lexer": "ipython3",
   "version": "3.7.0"
  }
 },
 "nbformat": 4,
 "nbformat_minor": 2
}
