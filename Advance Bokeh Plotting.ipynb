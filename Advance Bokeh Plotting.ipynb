{
 "cells": [
  {
   "cell_type": "code",
   "execution_count": 2,
   "metadata": {},
   "outputs": [],
   "source": [
    "from bokeh.plotting import figure\n",
    "from bokeh.io import output_file, show\n",
    "from bokeh.sampledata.iris import flowers\n",
    "from bokeh.models import Range1d, PanTool, ResetTool, HoverTool, ColumnDataSource\n",
    "\n",
    "colormap={'setosa':'red', 'versicolor':'green', 'virginica':'blue'}\n",
    "urlmap = {\n",
    "            'setosa':'https://upload.wikimedia.org/wikipedia/commons/thumb/5/56/Kosaciec_szczecinkowaty_Iris_setosa.jpg/800px-Kosaciec_szczecinkowaty_Iris_setosa.jpg',\n",
    "            'versicolor':'https://upload.wikimedia.org/wikipedia/commons/thumb/2/27/Blue_Flag%2C_Ottawa.jpg/800px-Blue_Flag%2C_Ottawa.jpg',\n",
    "            'virginica':'https://upload.wikimedia.org/wikipedia/commons/thumb/9/9f/Iris_virginica.jpg/800px-Iris_virginica.jpg'\n",
    "         }\n",
    "flowers['imgs']=[urlmap[x] for x in flowers['species']]\n",
    "flowers['color']=[colormap[x] for x in flowers['species']]\n",
    "flowers['size']=[(size * 4) for size in flowers['sepal_width']]\n",
    "\n",
    "setosa=ColumnDataSource(flowers[flowers[\"species\"]==\"setosa\"])\n",
    "versicolor=ColumnDataSource(flowers[flowers[\"species\"]==\"versicolor\"])\n",
    "virginica=ColumnDataSource(flowers[flowers[\"species\"]==\"virginica\"])\n",
    "\n",
    "cds_dict = {'setosa':setosa, 'versicolor':versicolor, 'virginica':virginica}\n",
    "#Define the output file path\n",
    "output_file(\"iris.html\")\n",
    "\n",
    "#Create the figure object\n",
    "f=figure()\n",
    "\n",
    "#print(cds_dict['setosa'])\n",
    "#adding glyphs\n",
    "for specie in flowers['species'].unique():\n",
    "#     print(cds_dict[specie])\n",
    "    f.circle(\n",
    "            x=\"petal_length\",\n",
    "            y=\"petal_width\",\n",
    "            size=\"size\",\n",
    "            fill_alpha=0.2,\n",
    "            color=\"color\",\n",
    "            line_dash=[5,3],\n",
    "            legend=specie.capitalize(),\n",
    "            source=cds_dict[specie]\n",
    "            )\n",
    "\n",
    "\n",
    "#Style the tools\n",
    "f.tools=[PanTool(), ResetTool()]\n",
    "# hover=HoverTool(tooltips=[(\"Species\", \"@species\"), (\"Sepal Width\", \"@sepal_width\")])\n",
    "hover=HoverTool(tooltips=\"\"\"\n",
    "    <div>\n",
    "        <div>\n",
    "            <img\n",
    "                src=\"@imgs\" height=\"42\" alt=\"@imgs\" width=42\n",
    "                style=\"float: left; margin: 0px 15px 15px 0px;\"\n",
    "            ></img>\n",
    "        </div>\n",
    "        <div>\n",
    "            <span style=\"font-size: 13px; color: #966;\">$index</span>\n",
    "            <span style=\"font-size: 15px; font-weight: bold;\">@species</span>\n",
    "        </div>\n",
    "        <div>\n",
    "            <span style=\"font-size: 10px; color: #696;\">Petal length: @petal_length</span><br>\n",
    "            <span style=\"font-size: 10px; color: #696;\">Petal width: @petal_width</span>\n",
    "        </div>\n",
    "    </div>\n",
    "\"\"\")\n",
    "f.add_tools(hover)\n",
    "f.toolbar_location='above'\n",
    "f.toolbar.logo=None\n",
    "\n",
    "#Style the legend\n",
    "f.legend.location = \"top_left\"\n",
    "f.legend.background_fill_alpha = 0\n",
    "f.legend.border_line_color = None\n",
    "f.legend.margin = 10\n",
    "f.legend.padding = 18\n",
    "f.legend.spacing = 1\n",
    "f.legend.label_text_color = 'olive'\n",
    "f.legend.label_text_font = 'antiqua'\n",
    "\n",
    "show(f)"
   ]
  },
  {
   "cell_type": "code",
   "execution_count": 1,
   "metadata": {},
   "outputs": [
    {
     "ename": "NameError",
     "evalue": "name 'setosa' is not defined",
     "output_type": "error",
     "traceback": [
      "\u001b[1;31m---------------------------------------------------------------------------\u001b[0m",
      "\u001b[1;31mNameError\u001b[0m                                 Traceback (most recent call last)",
      "\u001b[1;32m<ipython-input-1-ddcc8fa69038>\u001b[0m in \u001b[0;36m<module>\u001b[1;34m()\u001b[0m\n\u001b[1;32m----> 1\u001b[1;33m \u001b[0msetosa\u001b[0m\u001b[1;33m.\u001b[0m\u001b[0mdata\u001b[0m\u001b[1;33m\u001b[0m\u001b[0m\n\u001b[0m",
      "\u001b[1;31mNameError\u001b[0m: name 'setosa' is not defined"
     ]
    }
   ],
   "source": [
    "setosa.data"
   ]
  },
  {
   "cell_type": "code",
   "execution_count": null,
   "metadata": {},
   "outputs": [],
   "source": []
  }
 ],
 "metadata": {
  "kernelspec": {
   "display_name": "Python 3",
   "language": "python",
   "name": "python3"
  },
  "language_info": {
   "codemirror_mode": {
    "name": "ipython",
    "version": 3
   },
   "file_extension": ".py",
   "mimetype": "text/x-python",
   "name": "python",
   "nbconvert_exporter": "python",
   "pygments_lexer": "ipython3",
   "version": "3.7.0"
  }
 },
 "nbformat": 4,
 "nbformat_minor": 2
}
