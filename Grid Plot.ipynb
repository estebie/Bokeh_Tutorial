{
 "cells": [
  {
   "cell_type": "code",
   "execution_count": 1,
   "metadata": {
    "scrolled": true
   },
   "outputs": [],
   "source": [
    "from bokeh.io import output_file, show\n",
    "from bokeh.plotting import figure\n",
    "from bokeh.layouts import gridplot\n",
    "from bokeh.models.annotations import Span, BoxAnnotation\n",
    "\n",
    "#Prepare the output file\n",
    "output_file(\"layout.html\")\n",
    "\n",
    "x1,y1=list(range(0,10)), list(range(10,20))\n",
    "x2,y2=list(range(20,30)), list(range(30, 40))\n",
    "x3,y3=list(range(40,50)), list(range(50, 60))\n",
    "\n",
    "#create a new plot\n",
    "f1 = figure(width=250, plot_height=250, title=\"Circles\")\n",
    "f1.circle(x1, y1, size=10, color=\"navy\", alpha=0.5)\n",
    "\n",
    "#create another one\n",
    "f2 = figure(width=250, height=250, title=\"Triangles\")\n",
    "f2.triangle(x2, y2, size=10, color=\"firebrick\", alpha=0.5)\n",
    "\n",
    "#create and another\n",
    "f3 = figure(width=250, height=250, title=\"Squares\")\n",
    "f3.square(x3, y3, size=10, color=\"olive\", alpha=0.5)\n",
    "\n",
    "#create span annotation\n",
    "span_4=Span(location=4, dimension='height', line_color='green', line_width=2)\n",
    "f1.add_layout(span_4)\n",
    "\n",
    "#create a box annotation\n",
    "box_2_6=BoxAnnotation(left=2, right=6, fill_color=\"firebrick\", fill_alpha=0.3)\n",
    "f1.add_layout(box_2_6)\n",
    "\n",
    "#put all the plots on a grid layout\n",
    "f = gridplot([[f1, f2], [None, f3]])\n",
    "\n",
    "#show results\n",
    "show(f)"
   ]
  }
 ],
 "metadata": {
  "kernelspec": {
   "display_name": "Python 3",
   "language": "python",
   "name": "python3"
  },
  "language_info": {
   "codemirror_mode": {
    "name": "ipython",
    "version": 3
   },
   "file_extension": ".py",
   "mimetype": "text/x-python",
   "name": "python",
   "nbconvert_exporter": "python",
   "pygments_lexer": "ipython3",
   "version": "3.7.0"
  }
 },
 "nbformat": 4,
 "nbformat_minor": 2
}
